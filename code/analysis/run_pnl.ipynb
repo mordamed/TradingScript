{
 "cells": [
  {
   "cell_type": "code",
   "execution_count": 7,
   "id": "c1d246331b738007",
   "metadata": {
    "ExecuteTime": {
     "end_time": "2024-10-10T12:46:00.700014Z",
     "start_time": "2024-10-10T12:46:00.666905Z"
    }
   },
   "outputs": [],
   "source": [
    "import sys\n",
    "import os\n",
    "import json\n",
    "from pathlib import Path\n",
    "notebook_dir = os.getcwd()\n",
    "sys.path.append(os.path.join(notebook_dir, '..'))\n",
    "from utilities.tax_endpoint_analysis import RecordsManager"
   ]
  },
  {
   "cell_type": "code",
   "execution_count": 8,
   "id": "70d5df2036a48953",
   "metadata": {
    "ExecuteTime": {
     "end_time": "2024-10-10T12:46:18.407093Z",
     "start_time": "2024-10-10T12:46:00.707446Z"
    }
   },
   "outputs": [
    {
     "ename": "KeyError",
     "evalue": "'envelope_tax_endpoint'",
     "output_type": "error",
     "traceback": [
      "\u001b[1;31m---------------------------------------------------------------------------\u001b[0m",
      "\u001b[1;31mKeyError\u001b[0m                                  Traceback (most recent call last)",
      "Cell \u001b[1;32mIn[8], line 8\u001b[0m\n\u001b[0;32m      4\u001b[0m portefolio_start_date \u001b[38;5;241m=\u001b[39m \u001b[38;5;124m\"\u001b[39m\u001b[38;5;124m2024-03-01\u001b[39m\u001b[38;5;124m\"\u001b[39m\n\u001b[0;32m      7\u001b[0m \u001b[38;5;28;01mwith\u001b[39;00m \u001b[38;5;28mopen\u001b[39m(key_path, \u001b[38;5;124m\"\u001b[39m\u001b[38;5;124mr\u001b[39m\u001b[38;5;124m\"\u001b[39m) \u001b[38;5;28;01mas\u001b[39;00m f:\n\u001b[1;32m----> 8\u001b[0m     api_setup \u001b[38;5;241m=\u001b[39m \u001b[43mjson\u001b[49m\u001b[38;5;241;43m.\u001b[39;49m\u001b[43mload\u001b[49m\u001b[43m(\u001b[49m\u001b[43mf\u001b[49m\u001b[43m)\u001b[49m\u001b[43m[\u001b[49m\u001b[43mkey_name\u001b[49m\u001b[43m]\u001b[49m\n\u001b[0;32m     10\u001b[0m \u001b[38;5;66;03m# records_manager = RecordsManager(api_setup, portefolio_start_date)\u001b[39;00m\n\u001b[0;32m     11\u001b[0m records_manager \u001b[38;5;241m=\u001b[39m RecordsManager(api_setup, portefolio_start_date, filename\u001b[38;5;241m=\u001b[39m\u001b[38;5;124m'\u001b[39m\u001b[38;5;124mtest\u001b[39m\u001b[38;5;124m'\u001b[39m)\n",
      "\u001b[1;31mKeyError\u001b[0m: 'envelope_tax_endpoint'"
     ]
    }
   ],
   "source": [
    "key_path = Path(os.getcwd()).parents[1] / 'secret.json'\n",
    "key_name = 'envelope_tax_endpoint'\n",
    "\n",
    "portefolio_start_date = \"2024-03-01\"\n",
    "\n",
    "\n",
    "with open(key_path, \"r\") as f:\n",
    "    api_setup = json.load(f)[key_name]\n",
    "    \n",
    "# records_manager = RecordsManager(api_setup, portefolio_start_date)\n",
    "records_manager = RecordsManager(api_setup, portefolio_start_date, filename='test')"
   ]
  },
  {
   "cell_type": "code",
   "execution_count": null,
   "id": "e569af63",
   "metadata": {},
   "outputs": [],
   "source": [
    "records_manager.records_raw_df"
   ]
  },
  {
   "cell_type": "code",
   "execution_count": null,
   "id": "3ea54dbc293f050f",
   "metadata": {
    "ExecuteTime": {
     "end_time": "2024-10-10T12:46:18.520221Z",
     "start_time": "2024-10-10T12:46:18.512358Z"
    }
   },
   "outputs": [],
   "source": [
    "records_manager.trades"
   ]
  },
  {
   "cell_type": "code",
   "execution_count": null,
   "id": "4c10d1ae78cd84b0",
   "metadata": {
    "ExecuteTime": {
     "end_time": "2024-10-10T12:46:18.607145Z",
     "start_time": "2024-10-10T12:46:18.598310Z"
    }
   },
   "outputs": [],
   "source": [
    "records_manager.extra_records"
   ]
  },
  {
   "cell_type": "code",
   "execution_count": 6,
   "id": "ac5c7f81",
   "metadata": {},
   "outputs": [],
   "source": [
    "records_manager.analyse()  # analyze full period\n",
    "# records_manager.analyse(start_date=\"2024-07-01\")  # analyze from specific start date\n",
    "# records_manager.analyse(start_date=\"2024-07-01\", end_date=\"2024-11-10\")  # analyze specific period"
   ]
  },
  {
   "cell_type": "code",
   "execution_count": null,
   "id": "81f70d2223d049",
   "metadata": {
    "ExecuteTime": {
     "end_time": "2024-10-10T12:46:18.419494Z",
     "start_time": "2024-10-10T12:46:18.415802Z"
    }
   },
   "outputs": [],
   "source": [
    "records_manager.print_global_analysis()"
   ]
  },
  {
   "cell_type": "code",
   "execution_count": null,
   "id": "eb2978dffb8b8f78",
   "metadata": {
    "ExecuteTime": {
     "end_time": "2024-10-10T12:47:40.976885Z",
     "start_time": "2024-10-10T12:47:40.549513Z"
    }
   },
   "outputs": [],
   "source": [
    "records_manager.plot_over_time(metric=\"Capital\", show_transfers=True)\n",
    "records_manager.plot_over_time(metric=\"PnL Pct\")\n",
    "records_manager.plot_over_time(metric=\"PnL\")"
   ]
  },
  {
   "cell_type": "code",
   "execution_count": null,
   "id": "d6427166406a9f4b",
   "metadata": {
    "ExecuteTime": {
     "end_time": "2024-10-10T12:48:03.897350Z",
     "start_time": "2024-10-10T12:48:02.853942Z"
    }
   },
   "outputs": [],
   "source": [
    "records_manager.plot_per_pair(metric=\"Trades\")\n",
    "records_manager.plot_per_pair(metric=\"Win Rate\")\n",
    "records_manager.plot_per_pair(metric=\"PnL\", include_funding_fees=True)\n",
    "records_manager.plot_per_pair(metric=\"Funding Fees\")"
   ]
  },
  {
   "cell_type": "code",
   "execution_count": null,
   "id": "241d4324395bf777",
   "metadata": {},
   "outputs": [],
   "source": [
    "records_manager.plot_per_trade_type(metric=\"Trades\", results=\"global\")\n",
    "records_manager.plot_per_trade_type(metric=\"PnL\", results=\"global\")\n",
    "records_manager.plot_per_trade_type(metric=\"Win Rate\", results=\"global\")"
   ]
  },
  {
   "cell_type": "code",
   "execution_count": null,
   "id": "f183015fd35c78b",
   "metadata": {
    "ExecuteTime": {
     "end_time": "2024-10-10T12:48:53.587814Z",
     "start_time": "2024-10-10T12:48:53.329263Z"
    }
   },
   "outputs": [],
   "source": [
    "pair = \"BTCUSDT\"\n",
    "records_manager.plot_per_trade_type(metric=\"Trades\", results=pair)\n",
    "records_manager.plot_per_trade_type(metric=\"PnL\", results=pair)\n",
    "records_manager.plot_per_trade_type(metric=\"Win Rate\", results=pair)"
   ]
  }
 ],
 "metadata": {
  "kernelspec": {
   "display_name": ".venv",
   "language": "python",
   "name": "python3"
  },
  "language_info": {
   "codemirror_mode": {
    "name": "ipython",
    "version": 3
   },
   "file_extension": ".py",
   "mimetype": "text/x-python",
   "name": "python",
   "nbconvert_exporter": "python",
   "pygments_lexer": "ipython3",
   "version": "3.10.15"
  }
 },
 "nbformat": 4,
 "nbformat_minor": 5
}
